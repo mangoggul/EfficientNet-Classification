{
 "cells": [
  {
   "cell_type": "code",
   "execution_count": 4,
   "metadata": {},
   "outputs": [
    {
     "name": "stdout",
     "output_type": "stream",
     "text": [
      "torch.Size([1, 3, 224, 224])\n",
      "-----\n"
     ]
    },
    {
     "ename": "NameError",
     "evalue": "name 'plt' is not defined",
     "output_type": "error",
     "traceback": [
      "\u001b[1;31m---------------------------------------------------------------------------\u001b[0m",
      "\u001b[1;31mNameError\u001b[0m                                 Traceback (most recent call last)",
      "Cell \u001b[1;32mIn[4], line 49\u001b[0m\n\u001b[0;32m     47\u001b[0m \u001b[38;5;28mprint\u001b[39m(\u001b[38;5;124m'\u001b[39m\u001b[38;5;124m-----\u001b[39m\u001b[38;5;124m'\u001b[39m)\n\u001b[0;32m     48\u001b[0m img \u001b[38;5;241m=\u001b[39m Image\u001b[38;5;241m.\u001b[39mopen(\u001b[38;5;124m'\u001b[39m\u001b[38;5;124m115.jpg\u001b[39m\u001b[38;5;124m'\u001b[39m)\n\u001b[1;32m---> 49\u001b[0m \u001b[43mplt\u001b[49m\u001b[38;5;241m.\u001b[39mimshow(img)\n\u001b[0;32m     50\u001b[0m plt\u001b[38;5;241m.\u001b[39mshow()\n\u001b[0;32m     52\u001b[0m \u001b[38;5;28;01mfor\u001b[39;00m idx \u001b[38;5;129;01min\u001b[39;00m torch\u001b[38;5;241m.\u001b[39mtopk(outputs, k\u001b[38;5;241m=\u001b[39m\u001b[38;5;241m5\u001b[39m)\u001b[38;5;241m.\u001b[39mindices\u001b[38;5;241m.\u001b[39msqueeze(\u001b[38;5;241m0\u001b[39m)\u001b[38;5;241m.\u001b[39mtolist():\n",
      "\u001b[1;31mNameError\u001b[0m: name 'plt' is not defined"
     ]
    }
   ],
   "source": [
    "import json\n",
    "from PIL import Image\n",
    "import torch\n",
    "from torchvision import transforms\n",
    "from efficientnet_pytorch import EfficientNet\n",
    "import matplotlib.pyplot as plt\n",
    "# Create the model (use the same architecture as the trained model)\n",
    "model = EfficientNet.from_name('efficientnet-b0')  # or the appropriate version\n",
    "\n",
    "# Load your trained weights\n",
    "checkpoint = torch.load('../examples/imagenet/model_best.pth.tar')\n",
    "state_dict = checkpoint['state_dict']\n",
    "\n",
    "# Remove 'module.' prefix from the keys\n",
    "new_state_dict = {}\n",
    "for k, v in state_dict.items():\n",
    "    if k.startswith('module.'):\n",
    "        new_state_dict[k[7:]] = v  # remove 'module.'\n",
    "    else:\n",
    "        new_state_dict[k] = v\n",
    "\n",
    "# Load the modified state dictionary into the model\n",
    "model.load_state_dict(new_state_dict)\n",
    "\n",
    "# Preprocess image\n",
    "tfms = transforms.Compose([\n",
    "    transforms.Resize(224),\n",
    "    transforms.ToTensor(),\n",
    "    transforms.Normalize([0.485, 0.456, 0.406], [0.229, 0.224, 0.225]),\n",
    "])\n",
    "img = tfms(Image.open('115.jpg')).unsqueeze(0)\n",
    "print(img.shape)  # torch.Size([1, 3, 224, 224])\n",
    "\n",
    "# Load ImageNet class names\n",
    "with open('labels_map.txt') as f:\n",
    "    labels_map = json.load(f)\n",
    "\n",
    "num_classes = len(labels_map)\n",
    "labels_map = [labels_map[str(i)] for i in range(num_classes)]\n",
    "\n",
    "# Classify\n",
    "model.eval()\n",
    "with torch.no_grad():\n",
    "    outputs = model(img)\n",
    "\n",
    "# Print predictions\n",
    "print('-----')\n",
    "img = Image.open('115.jpg')\n",
    "plt.imshow(img)\n",
    "plt.show()\n",
    "\n",
    "for idx in torch.topk(outputs, k=5).indices.squeeze(0).tolist():\n",
    "    if idx < num_classes:\n",
    "        prob = torch.softmax(outputs, dim=1)[0, idx].item()\n",
    "        print('{label:<75} ({p:.2f}%)'.format(label=labels_map[idx], p=prob*100))\n",
    "    else:\n",
    "        print(f'Class index {idx} out of range for available labels.')\n"
   ]
  }
 ],
 "metadata": {
  "kernelspec": {
   "display_name": "effnet",
   "language": "python",
   "name": "python3"
  },
  "language_info": {
   "codemirror_mode": {
    "name": "ipython",
    "version": 3
   },
   "file_extension": ".py",
   "mimetype": "text/x-python",
   "name": "python",
   "nbconvert_exporter": "python",
   "pygments_lexer": "ipython3",
   "version": "3.12.4"
  }
 },
 "nbformat": 4,
 "nbformat_minor": 2
}
